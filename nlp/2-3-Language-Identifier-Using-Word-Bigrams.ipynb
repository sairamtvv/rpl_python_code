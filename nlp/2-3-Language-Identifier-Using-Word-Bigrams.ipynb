{
 "cells": [
  {
   "cell_type": "markdown",
   "metadata": {},
   "source": [
    "# Language Identifier Using Word Bigrams"
   ]
  },
  {
   "cell_type": "markdown",
   "metadata": {},
   "source": [
    "Based on [Language Identifier by asif31iqbal](https://github.com/asif31iqbal/language-identifier)"
   ]
  },
  {
   "cell_type": "markdown",
   "metadata": {},
   "source": [
    "## 0. Importing libraries and creating helper tokenize method"
   ]
  },
  {
   "cell_type": "code",
   "execution_count": 3,
   "metadata": {},
   "outputs": [],
   "source": [
    "import pickle\n",
    "import string\n",
    "import os\n",
    "from nltk import ngrams, FreqDist, word_tokenize\n",
    "# from numpy import arange\n",
    "# import matplotlib.pyplot as plt\n",
    "# %matplotlib inline"
   ]
  },
  {
   "cell_type": "code",
   "execution_count": 5,
   "metadata": {},
   "outputs": [],
   "source": [
    "def ultimate_tokenize(sentence):\n",
    "    # Remove punctuation and digits\n",
    "    sentence = sentence.translate(str.maketrans('', '', string.punctuation + string.digits))\n",
    "    return word_tokenize(sentence.lower())"
   ]
  },
  {
   "cell_type": "markdown",
   "metadata": {},
   "source": [
    "## 1. Understanding the process"
   ]
  },
  {
   "cell_type": "code",
   "execution_count": 6,
   "metadata": {},
   "outputs": [
    {
     "data": {
      "text/plain": [
       "['oh', 'then', 'i', 'see', 'queen', 'mab', 'hath', 'been', 'with', 'you']"
      ]
     },
     "execution_count": 6,
     "metadata": {},
     "output_type": "execute_result"
    }
   ],
   "source": [
    "simple_example_text = 'Oh, then, I see Queen Mab hath been with you.'\n",
    "\n",
    "simple_example_tokens_words = ultimate_tokenize(simple_example_text)\n",
    "simple_example_tokens_words"
   ]
  },
  {
   "cell_type": "code",
   "execution_count": 7,
   "metadata": {},
   "outputs": [
    {
     "data": {
      "text/plain": [
       "['o', 'h']"
      ]
     },
     "execution_count": 7,
     "metadata": {},
     "output_type": "execute_result"
    }
   ],
   "source": [
    "simple_example_tokens_chars = list(simple_example_tokens_words[0])\n",
    "simple_example_tokens_chars"
   ]
  },
  {
   "cell_type": "code",
   "execution_count": 10,
   "metadata": {},
   "outputs": [
    {
     "data": {
      "text/plain": [
       "[('oh', 'then'),\n",
       " ('then', 'i'),\n",
       " ('i', 'see'),\n",
       " ('see', 'queen'),\n",
       " ('queen', 'mab'),\n",
       " ('mab', 'hath'),\n",
       " ('hath', 'been'),\n",
       " ('been', 'with'),\n",
       " ('with', 'you')]"
      ]
     },
     "execution_count": 10,
     "metadata": {},
     "output_type": "execute_result"
    }
   ],
   "source": [
    "simple_example_tokens_words_unigrams = list(ngrams(simple_example_tokens_words, 2))\n",
    "simple_example_tokens_words_unigrams"
   ]
  },
  {
   "cell_type": "code",
   "execution_count": 9,
   "metadata": {},
   "outputs": [
    {
     "data": {
      "text/plain": [
       "[('<s>', 'oh'),\n",
       " ('oh', 'then'),\n",
       " ('then', 'i'),\n",
       " ('i', 'see'),\n",
       " ('see', 'queen'),\n",
       " ('queen', 'mab'),\n",
       " ('mab', 'hath'),\n",
       " ('hath', 'been'),\n",
       " ('been', 'with'),\n",
       " ('with', 'you'),\n",
       " ('you', '</s>')]"
      ]
     },
     "execution_count": 9,
     "metadata": {},
     "output_type": "execute_result"
    }
   ],
   "source": [
    "simple_example_tokens_words_bigrams = list(ngrams(simple_example_tokens_words, 2, pad_left=True, pad_right=True, left_pad_symbol='<s>', right_pad_symbol='</s>'))\n",
    "simple_example_tokens_words_bigrams"
   ]
  },
  {
   "cell_type": "code",
   "execution_count": 11,
   "metadata": {},
   "outputs": [
    {
     "data": {
      "text/plain": [
       "FreqDist({('oh', 'then'): 1, ('then', 'i'): 1, ('i', 'see'): 1, ('see', 'queen'): 1, ('queen', 'mab'): 1, ('mab', 'hath'): 1, ('hath', 'been'): 1, ('been', 'with'): 1, ('with', 'you'): 1})"
      ]
     },
     "execution_count": 11,
     "metadata": {},
     "output_type": "execute_result"
    }
   ],
   "source": [
    "fdist = FreqDist(simple_example_tokens_words_unigrams)\n",
    "fdist"
   ]
  },
  {
   "cell_type": "code",
   "execution_count": null,
   "metadata": {},
   "outputs": [],
   "source": []
  }
 ],
 "metadata": {
  "kernelspec": {
   "display_name": "Python 3",
   "language": "python",
   "name": "python3"
  },
  "language_info": {
   "codemirror_mode": {
    "name": "ipython",
    "version": 3
   },
   "file_extension": ".py",
   "mimetype": "text/x-python",
   "name": "python",
   "nbconvert_exporter": "python",
   "pygments_lexer": "ipython3",
   "version": "3.10.14"
  }
 },
 "nbformat": 4,
 "nbformat_minor": 2
}
