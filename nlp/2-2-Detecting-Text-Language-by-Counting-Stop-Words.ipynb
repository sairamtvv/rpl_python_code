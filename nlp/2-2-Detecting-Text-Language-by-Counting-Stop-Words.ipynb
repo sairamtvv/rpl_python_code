{
 "cells": [
  {
   "cell_type": "markdown",
   "metadata": {},
   "source": [
    "# Detecting Text Language by Counting Stop Words"
   ]
  },
  {
   "cell_type": "markdown",
   "metadata": {},
   "source": [
    "Based on [Detecting Text Language With Python and NLTK by Alejandro Nolla](http://blog.alejandronolla.com/2013/05/15/detecting-text-language-with-python-and-nltk/)\n",
    "\n",
    "*Stop words* are words which are filtered out before processing because they are mostly grammatical as opposed to semantic in nature e.g. search engines remove words like 'want'."
   ]
  },
  {
   "cell_type": "markdown",
   "metadata": {},
   "source": [
    "## 1. Tokenizing"
   ]
  },
  {
   "cell_type": "code",
   "execution_count": 1,
   "metadata": {},
   "outputs": [],
   "source": [
    "text = \"Yo man, it's time for you to shut yo' mouth! I ain't even messin' dawg.\""
   ]
  },
  {
   "cell_type": "code",
   "execution_count": 2,
   "metadata": {
    "scrolled": true
   },
   "outputs": [],
   "source": [
    "import sys\n",
    "\n",
    "try:\n",
    "    from nltk.tokenize import wordpunct_tokenize # RE-based tokenizer which splits text on whitespace and punctuation (except for underscore)\n",
    "except ImportError:\n",
    "    print('[!] You need to install nltk (http://nltk.org/index.html)')"
   ]
  },
  {
   "cell_type": "code",
   "execution_count": 3,
   "metadata": {},
   "outputs": [
    {
     "data": {
      "text/plain": [
       "['Yo',\n",
       " 'man',\n",
       " ',',\n",
       " 'it',\n",
       " \"'\",\n",
       " 's',\n",
       " 'time',\n",
       " 'for',\n",
       " 'you',\n",
       " 'to',\n",
       " 'shut',\n",
       " 'yo',\n",
       " \"'\",\n",
       " 'mouth',\n",
       " '!',\n",
       " 'I',\n",
       " 'ain',\n",
       " \"'\",\n",
       " 't',\n",
       " 'even',\n",
       " 'messin',\n",
       " \"'\",\n",
       " 'dawg',\n",
       " '.']"
      ]
     },
     "execution_count": 3,
     "metadata": {},
     "output_type": "execute_result"
    }
   ],
   "source": [
    "test_tokens = wordpunct_tokenize(text)\n",
    "test_tokens"
   ]
  },
  {
   "cell_type": "markdown",
   "metadata": {},
   "source": [
    "There are other tokenizers e.g. `RegexpTokenizer` where you can enter your own regexp, `WhitespaceTokenizer` (similar to Python's `string.split()`) and `BlanklineTokenizer`."
   ]
  },
  {
   "cell_type": "markdown",
   "metadata": {},
   "source": [
    "## 2. Exploring NLTK's stop words corpus"
   ]
  },
  {
   "cell_type": "markdown",
   "metadata": {},
   "source": [
    "NLTK comes with a corpus of stop words in various languages."
   ]
  },
  {
   "cell_type": "code",
   "execution_count": 4,
   "metadata": {},
   "outputs": [
    {
     "data": {
      "text/plain": [
       "'Stopwords Corpus  This corpus contains lists of stop words for several languages.  These are high-frequency grammatical words which are usually ignored in text retrieval applications.  They were obtained from: http://anoncvs.postgresql.org/cvsweb.cgi/pgsql/src/backend/snowball/stopwords/  The stop words for the Romanian language were obtained from: http://arlc.ro/resources/  The English list has been augmented https://github.com/nltk/nltk_data/issues/22  The German list has been corrected https://github.com/nltk/nltk_data/pull/49  A Kazakh list has been added https://github.com/nltk/nltk_data/pull/52  A Nepali list has been added https://github.com/nltk/nltk_data/pull/83  An Azerbaijani list has been added https://github.com/nltk/nltk_data/pull/100  A Greek list has been added https://github.com/nltk/nltk_data/pull/103  An Indonesian list has been added https://github.com/nltk/nltk_data/pull/112 '"
      ]
     },
     "execution_count": 4,
     "metadata": {},
     "output_type": "execute_result"
    }
   ],
   "source": [
    "from nltk.corpus import stopwords\n",
    "stopwords.readme().replace('\\n', ' ') # Since this is raw text, we need to replace \\n's with spaces for it to be readable."
   ]
  },
  {
   "cell_type": "code",
   "execution_count": 5,
   "metadata": {},
   "outputs": [
    {
     "data": {
      "text/plain": [
       "['arabic',\n",
       " 'azerbaijani',\n",
       " 'basque',\n",
       " 'bengali',\n",
       " 'catalan',\n",
       " 'chinese',\n",
       " 'danish',\n",
       " 'dutch',\n",
       " 'english',\n",
       " 'finnish',\n",
       " 'french',\n",
       " 'german',\n",
       " 'greek',\n",
       " 'hebrew',\n",
       " 'hinglish',\n",
       " 'hungarian',\n",
       " 'indonesian',\n",
       " 'italian',\n",
       " 'kazakh',\n",
       " 'nepali',\n",
       " 'norwegian',\n",
       " 'portuguese',\n",
       " 'romanian',\n",
       " 'russian',\n",
       " 'slovene',\n",
       " 'spanish',\n",
       " 'swedish',\n",
       " 'tajik',\n",
       " 'turkish']"
      ]
     },
     "execution_count": 5,
     "metadata": {},
     "output_type": "execute_result"
    }
   ],
   "source": [
    "stopwords.fileids() # Most corpora consist of a set of files, each containing a piece of text. A list of identifiers for these files is accessed via fileids()."
   ]
  },
  {
   "cell_type": "markdown",
   "metadata": {},
   "source": [
    "Corpus readers provide a variety of methods to read data from the corpus:"
   ]
  },
  {
   "cell_type": "code",
   "execution_count": 16,
   "metadata": {},
   "outputs": [
    {
     "data": {
      "text/plain": [
       "\"a\\naadi\\naaj\\naap\\naapne\\naata\\naati\\naaya\\naaye\\nab\\nabbe\\nabbey\\nabe\\nabhi\\nable\\nabout\\nabove\\naccha\\naccording\\naccordingly\\nacha\\nachcha\\nacross\\nactually\\nafter\\nafterwards\\nagain\\nagainst\\nagar\\nain\\naint\\nain't\\naisa\\naise\\naisi\\nalag\\nall\\nallow\\nallows\\nalmost\\nalone\\nalong\\nalready\\nalso\\nalthough\\nalways\\nam\\namong\\namongst\\nan\\nand\\nandar\\nanother\\nany\\nanybody\\nanyhow\\nanyone\\nanything\\nanyway\\nanyways\\nanywhere\\nap\\napan\\napart\\napna\\napnaa\\napne\\napni\\nappear\\nare\\naren\\narent\\naren't\\naround\\narre\\nas\\naside\\nask\\nasking\\nat\\naur\\navum\\naya\\naye\\nbaad\\nbaar\\nbad\\nbahut\\nbana\\nbanae\\nbanai\\nbanao\\nbanaya\\nbanaye\\nbanayi\\nbanda\\nbande\\nbandi\\nbane\\nbani\\nbas\\nbata\\nbatao\\nbc\\nbe\\nbecame\\nbecause\\nbecome\\nbecomes\\nbecoming\\nbeen\\nbefore\\nbeforehand\\nbehind\\nbeing\\nbelow\\nbeside\\nbesides\\nbest\\nbetter\\nbetween\\nbeyond\\nbhai\\nbheetar\\nbhi\\nbhitar\\nbht\\nbilkul\\nbohot\\nbol\\nbola\\nbole\\nboli\\nbolo\\nbolta\\nbolte\\nbolti\\nboth\\nbrief\\nbro\\nbtw\\nbut\\nby\\ncame\\ncan\\ncannot\\ncant\\ncan't\\ncause\\ncauses\\ncertain\\ncertainly\\nchahiye\\nchaiye\\nchal\\nchalega\\nchhaiye\\nclearly\\nc'mon\\ncom\\ncome\\ncomes\\ncould\\ncouldn\\ncouldnt\\ncouldn't\\nd\\nde\\ndede\\ndega\\ndegi\\ndekh\\ndekha\\ndekhe\\ndekhi\\ndekho\\ndenge\\ndhang\\ndi\\ndid\\ndidn\\ndidnt\\ndidn't\\ndijiye\\ndiya\\ndiyaa\\ndiye\\ndiyo\\ndo\\ndoes\\ndoesn\\ndoesnt\\ndoesn't\\ndoing\\ndone\\ndono\\ndont\\ndon't\\ndoosra\\ndoosre\\ndown\\ndownwards\\ndude\\ndunga\\ndungi\\nduring\\ndusra\\ndusre\\ndusri\\ndvaara\\ndvara\\ndwaara\\ndwara\\neach\\nedu\\neg\\neight\\neither\\nek\\nelse\\nelsewhere\\nenough\\netc\\neven\\never\\nevery\\neverybody\\neveryone\\neverything\\neverywhere\\nex\\nexactly\\nexample\\nexcept\\nfar\\nfew\\nfifth\\nfir\\nfirst\\nfive\\nfollowed\\nfollowing\\nfollows\\nfor\\nforth\\nfour\\nfrom\\nfurther\\nfurthermore\\ngaya\\ngaye\\ngayi\\nget\\ngets\\ngetting\\nghar\\ngiven\\ngives\\ngo\\ngoes\\ngoing\\ngone\\ngood\\ngot\\ngotten\\ngreetings\\nhaan\\nhad\\nhadd\\nhadn\\nhadnt\\nhadn't\\nhai\\nhain\\nhamara\\nhamare\\nhamari\\nhamne\\nhan\\nhappens\\nhar\\nhardly\\nhas\\nhasn\\nhasnt\\nhasn't\\nhave\\nhaven\\nhavent\\nhaven't\\nhaving\\nhe\\nhello\\nhelp\\nhence\\nher\\nhere\\nhereafter\\nhereby\\nherein\\nhere's\\nhereupon\\nhers\\nherself\\nhe's\\nhi\\nhim\\nhimself\\nhis\\nhither\\nhm\\nhmm\\nho\\nhoga\\nhoge\\nhogi\\nhona\\nhonaa\\nhone\\nhonge\\nhongi\\nhoni\\nhopefully\\nhota\\nhotaa\\nhote\\nhoti\\nhow\\nhowbeit\\nhowever\\nhoyenge\\nhoyengi\\nhu\\nhua\\nhue\\nhuh\\nhui\\nhum\\nhumein\\nhumne\\nhun\\nhuye\\nhuyi\\ni\\ni'd\\nidk\\nie\\nif\\ni'll\\ni'm\\nimo\\nin\\ninasmuch\\ninc\\ninhe\\ninhi\\ninho\\ninka\\ninkaa\\ninke\\ninki\\ninn\\ninner\\ninse\\ninsofar\\ninto\\ninward\\nis\\nise\\nisi\\niska\\niskaa\\niske\\niski\\nisme\\nisn\\nisne\\nisnt\\nisn't\\niss\\nisse\\nissi\\nisski\\nit\\nit'd\\nit'll\\nitna\\nitne\\nitni\\nitno\\nits\\nit's\\nitself\\nityaadi\\nityadi\\ni've\\nja\\njaa\\njab\\njabh\\njaha\\njahaan\\njahan\\njaisa\\njaise\\njaisi\\njata\\njayega\\njidhar\\njin\\njinhe\\njinhi\\njinho\\njinhone\\njinka\\njinke\\njinki\\njinn\\njis\\njise\\njiska\\njiske\\njiski\\njisme\\njiss\\njisse\\njitna\\njitne\\njitni\\njo\\njust\\njyaada\\njyada\\nk\\nka\\nkaafi\\nkab\\nkabhi\\nkafi\\nkaha\\nkahaa\\nkahaan\\nkahan\\nkahi\\nkahin\\nkahte\\nkaisa\\nkaise\\nkaisi\\nkal\\nkam\\nkar\\nkara\\nkare\\nkarega\\nkaregi\\nkaren\\nkarenge\\nkari\\nkarke\\nkarna\\nkarne\\nkarni\\nkaro\\nkarta\\nkarte\\nkarti\\nkaru\\nkarun\\nkarunga\\nkarungi\\nkaun\\nkaunsa\\nkayi\\nkch\\nke\\nkeep\\nkeeps\\nkeh\\nkehte\\nkept\\nkhud\\nki\\nkin\\nkine\\nkinhe\\nkinho\\nkinka\\nkinke\\nkinki\\nkinko\\nkinn\\nkino\\nkis\\nkise\\nkisi\\nkiska\\nkiske\\nkiski\\nkisko\\nkisliye\\nkisne\\nkitna\\nkitne\\nkitni\\nkitno\\nkiya\\nkiye\\nknow\\nknown\\nknows\\nko\\nkoi\\nkon\\nkonsa\\nkoyi\\nkrna\\nkrne\\nkuch\\nkuchch\\nkuchh\\nkul\\nkull\\nkya\\nkyaa\\nkyu\\nkyuki\\nkyun\\nkyunki\\nlagta\\nlagte\\nlagti\\nlast\\nlately\\nlater\\nle\\nleast\\nlekar\\nlekin\\nless\\nlest\\nlet\\nlet's\\nli\\nlike\\nliked\\nlikely\\nlittle\\nliya\\nliye\\nll\\nlo\\nlog\\nlogon\\nlol\\nlook\\nlooking\\nlooks\\nltd\\nlunga\\nm\\nmaan\\nmaana\\nmaane\\nmaani\\nmaano\\nmagar\\nmai\\nmain\\nmaine\\nmainly\\nmana\\nmane\\nmani\\nmano\\nmany\\nmat\\nmay\\nmaybe\\nme\\nmean\\nmeanwhile\\nmein\\nmera\\nmere\\nmerely\\nmeri\\nmight\\nmightn\\nmightnt\\nmightn't\\nmil\\nmjhe\\nmore\\nmoreover\\nmost\\nmostly\\nmuch\\nmujhe\\nmust\\nmustn\\nmustnt\\nmustn't\\nmy\\nmyself\\nna\\nnaa\\nnaah\\nnahi\\nnahin\\nnai\\nname\\nnamely\\nnd\\nne\\nnear\\nnearly\\nnecessary\\nneeche\\nneed\\nneedn\\nneednt\\nneedn't\\nneeds\\nneither\\nnever\\nnevertheless\\nnew\\nnext\\nnhi\\nnine\\nno\\nnobody\\nnon\\nnone\\nnoone\\nnope\\nnor\\nnormally\\nnot\\nnothing\\nnovel\\nnow\\nnowhere\\no\\nobviously\\nof\\noff\\noften\\noh\\nok\\nokay\\nold\\non\\nonce\\none\\nones\\nonly\\nonto\\nor\\nother\\nothers\\notherwise\\nought\\nour\\nours\\nourselves\\nout\\noutside\\nover\\noverall\\nown\\npar\\npata\\npe\\npehla\\npehle\\npehli\\npeople\\nper\\nperhaps\\nphla\\nphle\\nphli\\nplaced\\nplease\\nplus\\npoora\\npoori\\nprovides\\npura\\npuri\\nq\\nque\\nquite\\nraha\\nrahaa\\nrahe\\nrahi\\nrakh\\nrakha\\nrakhe\\nrakhen\\nrakhi\\nrakho\\nrather\\nre\\nreally\\nreasonably\\nregarding\\nregardless\\nregards\\nrehte\\nrha\\nrhaa\\nrhe\\nrhi\\nri\\nright\\ns\\nsa\\nsaara\\nsaare\\nsaath\\nsab\\nsabhi\\nsabse\\nsahi\\nsaid\\nsakta\\nsaktaa\\nsakte\\nsakti\\nsame\\nsang\\nsara\\nsath\\nsaw\\nsay\\nsaying\\nsays\\nse\\nsecond\\nsecondly\\nsee\\nseeing\\nseem\\nseemed\\nseeming\\nseems\\nseen\\nself\\nselves\\nsensible\\nsent\\nserious\\nseriously\\nseven\\nseveral\\nshall\\nshan\\nshant\\nshan't\\nshe\\nshe's\\nshould\\nshouldn\\nshouldnt\\nshouldn't\\nshould've\\nsi\\nsince\\nsix\\nso\\nsoch\\nsome\\nsomebody\\nsomehow\\nsomeone\\nsomething\\nsometime\\nsometimes\\nsomewhat\\nsomewhere\\nsoon\\nstill\\nsub\\nsuch\\nsup\\nsure\\nt\\ntab\\ntabh\\ntak\\ntake\\ntaken\\ntarah\\nteen\\nteeno\\nteesra\\nteesre\\nteesri\\ntell\\ntends\\ntera\\ntere\\nteri\\nth\\ntha\\nthan\\nthank\\nthanks\\nthanx\\nthat\\nthat'll\\nthats\\nthat's\\nthe\\ntheek\\ntheir\\ntheirs\\nthem\\nthemselves\\nthen\\nthence\\nthere\\nthereafter\\nthereby\\ntherefore\\ntherein\\ntheres\\nthere's\\nthereupon\\nthese\\nthey\\nthey'd\\nthey'll\\nthey're\\nthey've\\nthi\\nthik\\nthing\\nthink\\nthinking\\nthird\\nthis\\ntho\\nthoda\\nthodi\\nthorough\\nthoroughly\\nthose\\nthough\\nthought\\nthree\\nthrough\\nthroughout\\nthru\\nthus\\ntjhe\\nto\\ntogether\\ntoh\\ntoo\\ntook\\ntoward\\ntowards\\ntried\\ntries\\ntrue\\ntruly\\ntry\\ntrying\\ntu\\ntujhe\\ntum\\ntumhara\\ntumhare\\ntumhari\\ntune\\ntwice\\ntwo\\num\\numm\\nun\\nunder\\nunhe\\nunhi\\nunho\\nunhone\\nunka\\nunkaa\\nunke\\nunki\\nunko\\nunless\\nunlikely\\nunn\\nunse\\nuntil\\nunto\\nup\\nupar\\nupon\\nus\\nuse\\nused\\nuseful\\nuses\\nusi\\nusing\\nuska\\nuske\\nusne\\nuss\\nusse\\nussi\\nusually\\nvaala\\nvaale\\nvaali\\nvahaan\\nvahan\\nvahi\\nvahin\\nvaisa\\nvaise\\nvaisi\\nvala\\nvale\\nvali\\nvarious\\nve\\nvery\\nvia\\nviz\\nvo\\nwaala\\nwaale\\nwaali\\nwagaira\\nwagairah\\nwagerah\\nwaha\\nwahaan\\nwahan\\nwahi\\nwahin\\nwaisa\\nwaise\\nwaisi\\nwala\\nwale\\nwali\\nwant\\nwants\\nwas\\nwasn\\nwasnt\\nwasn't\\nway\\nwe\\nwe'd\\nwell\\nwe'll\\nwent\\nwere\\nwe're\\nweren\\nwerent\\nweren't\\nwe've\\nwhat\\nwhatever\\nwhat's\\nwhen\\nwhence\\nwhenever\\nwhere\\nwhereafter\\nwhereas\\nwhereby\\nwherein\\nwhere's\\nwhereupon\\nwherever\\nwhether\\nwhich\\nwhile\\nwho\\nwhoever\\nwhole\\nwhom\\nwho's\\nwhose\\nwhy\\nwill\\nwilling\\nwith\\nwithin\\nwithout\\nwo\\nwoh\\nwohi\\nwon\\nwont\\nwon't\\nwould\\nwouldn\\nwouldnt\\nwouldn't\\ny\\nya\\nyadi\\nyah\\nyaha\\nyahaan\\nyahan\\nyahi\\nyahin\\nye\\nyeah\\nyeh\\nyehi\\nyes\\nyet\\nyou\\nyou'd\\nyou'll\\nyour\\nyou're\\nyours\\nyourself\\nyourselves\\nyou've\\nyup\\n\""
      ]
     },
     "execution_count": 16,
     "metadata": {},
     "output_type": "execute_result"
    }
   ],
   "source": [
    "stopwords.raw('hinglish')"
   ]
  },
  {
   "cell_type": "code",
   "execution_count": 17,
   "metadata": {},
   "outputs": [
    {
     "data": {
      "text/plain": [
       "\"a aadi aaj aap aapne aata aati aaya aaye ab abbe abbey abe abhi able about above accha according accordingly acha achcha across actually after afterwards again against agar ain aint ain't aisa aise aisi alag all allow allows almost alone along already also although always am among amongst an and andar another any anybody anyhow anyone anything anyway anyways anywhere ap apan apart apna apnaa apne apni appear are aren arent aren't around arre as aside ask asking at aur avum aya aye baad baar bad bahut bana banae banai banao banaya banaye banayi banda bande bandi bane bani bas bata batao bc be became because become becomes becoming been before beforehand behind being below beside besides best better between beyond bhai bheetar bhi bhitar bht bilkul bohot bol bola bole boli bolo bolta bolte bolti both brief bro btw but by came can cannot cant can't cause causes certain certainly chahiye chaiye chal chalega chhaiye clearly c'mon com come comes could couldn couldnt couldn't d de dede dega degi dekh dekha dekhe dekhi dekho denge dhang di did didn didnt didn't dijiye diya diyaa diye diyo do does doesn doesnt doesn't doing done dono dont don't doosra doosre down downwards dude dunga dungi during dusra dusre dusri dvaara dvara dwaara dwara each edu eg eight either ek else elsewhere enough etc even ever every everybody everyone everything everywhere ex exactly example except far few fifth fir first five followed following follows for forth four from further furthermore gaya gaye gayi get gets getting ghar given gives go goes going gone good got gotten greetings haan had hadd hadn hadnt hadn't hai hain hamara hamare hamari hamne han happens har hardly has hasn hasnt hasn't have haven havent haven't having he hello help hence her here hereafter hereby herein here's hereupon hers herself he's hi him himself his hither hm hmm ho hoga hoge hogi hona honaa hone honge hongi honi hopefully hota hotaa hote hoti how howbeit however hoyenge hoyengi hu hua hue huh hui hum humein humne hun huye huyi i i'd idk ie if i'll i'm imo in inasmuch inc inhe inhi inho inka inkaa inke inki inn inner inse insofar into inward is ise isi iska iskaa iske iski isme isn isne isnt isn't iss isse issi isski it it'd it'll itna itne itni itno its it's itself ityaadi ityadi i've ja jaa jab jabh jaha jahaan jahan jaisa jaise jaisi jata jayega jidhar jin jinhe jinhi jinho jinhone jinka jinke jinki jinn jis jise jiska jiske jiski jisme jiss jisse jitna jitne jitni jo just jyaada jyada k ka kaafi kab kabhi kafi kaha kahaa kahaan kahan kahi kahin kahte kaisa kaise kaisi kal kam kar kara kare karega karegi karen karenge kari karke karna karne karni karo karta karte karti karu karun karunga karungi kaun kaunsa kayi kch ke keep keeps keh kehte kept khud ki kin kine kinhe kinho kinka kinke kinki kinko kinn kino kis kise kisi kiska kiske kiski kisko kisliye kisne kitna kitne kitni kitno kiya kiye know known knows ko koi kon konsa koyi krna krne kuch kuchch kuchh kul kull kya kyaa kyu kyuki kyun kyunki lagta lagte lagti last lately later le least lekar lekin less lest let let's li like liked likely little liya liye ll lo log logon lol look looking looks ltd lunga m maan maana maane maani maano magar mai main maine mainly mana mane mani mano many mat may maybe me mean meanwhile mein mera mere merely meri might mightn mightnt mightn't mil mjhe more moreover most mostly much mujhe must mustn mustnt mustn't my myself na naa naah nahi nahin nai name namely nd ne near nearly necessary neeche need needn neednt needn't needs neither never nevertheless new next nhi nine no nobody non none noone nope nor normally not nothing novel now nowhere o obviously of off often oh ok okay old on once one ones only onto or other others otherwise ought our ours ourselves out outside over overall own par pata pe pehla pehle pehli people per perhaps phla phle phli placed please plus poora poori provides pura puri q que quite raha rahaa rahe rahi rakh rakha rakhe rakhen rakhi rakho rather re really reasonably regarding regardless regards rehte rha rhaa rhe rhi ri right s sa saara saare saath sab sabhi sabse sahi said sakta saktaa sakte sakti same sang sara sath saw say saying says se second secondly see seeing seem seemed seeming seems seen self selves sensible sent serious seriously seven several shall shan shant shan't she she's should shouldn shouldnt shouldn't should've si since six so soch some somebody somehow someone something sometime sometimes somewhat somewhere soon still sub such sup sure t tab tabh tak take taken tarah teen teeno teesra teesre teesri tell tends tera tere teri th tha than thank thanks thanx that that'll thats that's the theek their theirs them themselves then thence there thereafter thereby therefore therein theres there's thereupon these they they'd they'll they're they've thi thik thing think thinking third this tho thoda thodi thorough thoroughly those though thought three through throughout thru thus tjhe to together toh too took toward towards tried tries true truly try trying tu tujhe tum tumhara tumhare tumhari tune twice two um umm un under unhe unhi unho unhone unka unkaa unke unki unko unless unlikely unn unse until unto up upar upon us use used useful uses usi using uska uske usne uss usse ussi usually vaala vaale vaali vahaan vahan vahi vahin vaisa vaise vaisi vala vale vali various ve very via viz vo waala waale waali wagaira wagairah wagerah waha wahaan wahan wahi wahin waisa waise waisi wala wale wali want wants was wasn wasnt wasn't way we we'd well we'll went were we're weren werent weren't we've what whatever what's when whence whenever where whereafter whereas whereby wherein where's whereupon wherever whether which while who whoever whole whom who's whose why will willing with within without wo woh wohi won wont won't would wouldn wouldnt wouldn't y ya yadi yah yaha yahaan yahan yahi yahin ye yeah yeh yehi yes yet you you'd you'll your you're yours yourself yourselves you've yup \""
      ]
     },
     "execution_count": 17,
     "metadata": {},
     "output_type": "execute_result"
    }
   ],
   "source": [
    "stopwords.raw('hinglish').replace('\\n', ' ') # Better"
   ]
  },
  {
   "cell_type": "code",
   "execution_count": 9,
   "metadata": {},
   "outputs": [
    {
     "data": {
      "text/plain": [
       "['i', 'me', 'my', 'myself', 'we', 'our', 'ours', 'ourselves', 'you', \"you're\"]"
      ]
     },
     "execution_count": 9,
     "metadata": {},
     "output_type": "execute_result"
    }
   ],
   "source": [
    "stopwords.words('english')[:10]"
   ]
  },
  {
   "cell_type": "code",
   "execution_count": 18,
   "metadata": {},
   "outputs": [
    {
     "data": {
      "text/plain": [
       "1036"
      ]
     },
     "execution_count": 18,
     "metadata": {},
     "output_type": "execute_result"
    }
   ],
   "source": [
    "len(stopwords.words(['hinglish'])) # There is a total of 444 Greek and English stop words"
   ]
  },
  {
   "cell_type": "markdown",
   "metadata": {},
   "source": [
    "## 3. The classification"
   ]
  },
  {
   "cell_type": "markdown",
   "metadata": {},
   "source": [
    "We loop through the list of stop words in all languages and check how many stop words our test text contains in each language. The text is then classified to be in the language in which it has the most stop words."
   ]
  },
  {
   "cell_type": "code",
   "execution_count": 14,
   "metadata": {},
   "outputs": [
    {
     "data": {
      "text/plain": [
       "{'arabic': 0,\n",
       " 'azerbaijani': 0,\n",
       " 'basque': 0,\n",
       " 'bengali': 0,\n",
       " 'catalan': 1,\n",
       " 'chinese': 0,\n",
       " 'danish': 3,\n",
       " 'dutch': 0,\n",
       " 'english': 8,\n",
       " 'finnish': 0,\n",
       " 'french': 2,\n",
       " 'german': 1,\n",
       " 'greek': 0,\n",
       " 'hebrew': 0,\n",
       " 'hinglish': 9,\n",
       " 'hungarian': 1,\n",
       " 'indonesian': 0,\n",
       " 'italian': 1,\n",
       " 'kazakh': 0,\n",
       " 'nepali': 0,\n",
       " 'norwegian': 3,\n",
       " 'portuguese': 1,\n",
       " 'romanian': 2,\n",
       " 'russian': 0,\n",
       " 'slovene': 2,\n",
       " 'spanish': 1,\n",
       " 'swedish': 2,\n",
       " 'tajik': 0,\n",
       " 'turkish': 0}"
      ]
     },
     "execution_count": 14,
     "metadata": {},
     "output_type": "execute_result"
    }
   ],
   "source": [
    "language_ratios = {}\n",
    "\n",
    "test_words = [word.lower() for word in test_tokens] # lowercase all tokens\n",
    "test_words_set = set(test_words)\n",
    "\n",
    "for language in stopwords.fileids():\n",
    "    stopwords_set = set(stopwords.words(language)) # For some languages eg. Russian, it would be a wise idea to tokenize the stop words by punctuation too.\n",
    "    common_elements = test_words_set.intersection(stopwords_set)\n",
    "    language_ratios[language] = len(common_elements) # language \"score\"\n",
    "    \n",
    "language_ratios"
   ]
  },
  {
   "cell_type": "code",
   "execution_count": 15,
   "metadata": {},
   "outputs": [
    {
     "data": {
      "text/plain": [
       "'hinglish'"
      ]
     },
     "execution_count": 15,
     "metadata": {},
     "output_type": "execute_result"
    }
   ],
   "source": [
    "most_rated_language = max(language_ratios, key=language_ratios.get) # The key parameter to the max() function is a function that computes a key. In our case, we already have a key so we set key to languages_ratios.get which actually returns the key.\n",
    "most_rated_language"
   ]
  },
  {
   "cell_type": "code",
   "execution_count": 19,
   "metadata": {},
   "outputs": [
    {
     "data": {
      "text/plain": [
       "{'ain', 'even', 'for', 'i', 'it', 's', 't', 'to', 'you'}"
      ]
     },
     "execution_count": 19,
     "metadata": {},
     "output_type": "execute_result"
    }
   ],
   "source": [
    "test_words_set.intersection(set(stopwords.words(most_rated_language))) # We can see which English stop words were found."
   ]
  },
  {
   "cell_type": "code",
   "execution_count": null,
   "metadata": {},
   "outputs": [],
   "source": []
  }
 ],
 "metadata": {
  "kernelspec": {
   "display_name": "Python 3",
   "language": "python",
   "name": "python3"
  },
  "language_info": {
   "codemirror_mode": {
    "name": "ipython",
    "version": 3
   },
   "file_extension": ".py",
   "mimetype": "text/x-python",
   "name": "python",
   "nbconvert_exporter": "python",
   "pygments_lexer": "ipython3",
   "version": "3.10.14"
  }
 },
 "nbformat": 4,
 "nbformat_minor": 2
}
